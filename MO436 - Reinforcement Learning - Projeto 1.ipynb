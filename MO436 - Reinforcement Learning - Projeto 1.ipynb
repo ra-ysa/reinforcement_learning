{
 "cells": [
  {
   "cell_type": "markdown",
   "metadata": {},
   "source": [
    "## MO436 - Tópicos em Aprendizado de Máquina: Reinforcement Learning - 2s2020\n",
    "\n",
    "### Projeto 1\n",
    "Leandro Rebes Camargo, 150960 | Mauricio de Sousa Araujo, 184477 | Raysa Masson Benatti, 176483"
   ]
  },
  {
   "cell_type": "markdown",
   "metadata": {},
   "source": [
    "#### Introdução"
   ]
  },
  {
   "cell_type": "markdown",
   "metadata": {},
   "source": [
    "O objetivo deste trabalho é aplicar métodos de aprendizado por reforço para resolver um problema definido pelo grupo. No nosso caso, optamos por estudar e resolver o problema do <b>CartPole</b>. \n",
    "    \n",
    "Conforme definido por Barto, Sutton e Anderson [[1]](#Referências), trata-se de um sistema simulado que representa um pêndulo invertido. Nessa simulação, o <b>agente</b> é um carrinho que se move em um trilho sem atrito de uma dimensão, para a esquerda ou direita; ligado ao carrinho, encontra-se uma estaca, que se move angularmente, em sentido horário ou anti-horário. O objetivo do problema é colocar o carrinho em movimento de modo que a estaca (pêndulo) permaneça ereta. \n",
    "\n",
    "Para atingir esse objetivo, devemos controlar as variáveis do modelo. São quatro variáveis, que definem os <b>estados</b> do sistema: (1) a posição <b>p</b> do carrinho no trilho; (2) a velocidade <b>v</b> do carrinho; (3) o ângulo <b>a</b> que a estaca forma com o eixo vertical do carrinho; (4) a velocidade angular <b>va</b> de movimento da estaca.\n",
    "\n",
    "O modelo tem duas <b>ações</b> possíveis: movimentar o carrinho sobre o trilho para a esquerda ou para a direita.\n",
    "\n",
    "Um estado desse sistema é <b>terminal</b> nas seguintes situações: (1) se o módulo do ângulo <b>a</b> é maior que 12 graus (o que representa, na prática, a queda da estaca); (2) se o centro do carrinho atinge alguma borda do ambiente; (3) se a quantidade máxima de episódios definida é atingida. O estado terminal (1) é considerado fracasso; os estados terminais (2) e (3) são bem-sucedidos e representam o objetivo do problema <b>se</b>, quando são atingidos, o carrinho se movimenta com a estaca ereta. Por padrão, a cada ação tomada, o ambiente fornece ao agente um <i>feedback</i> --- ou <b>recompensa</b> --- no valor de 1; se a ação resulta em um estado (1) ou (2), o ambiente enviará um <i>failure signal</i> através da variável booleana ``done``, cujo valor será modificado de ``False`` para ``True``. Caso a ação faça a estaca cair (estado (1)), a recompensa será zero.\n",
    "\n",
    "O ambiente se caracteriza como <b>estocástico</b>, pois não é possível determinar o resultado a partir de um estado atual, e <b>episódico</b>, pois o agente pode tomar qualquer uma das ações disponíveis a qualquer momento, sem que uma ação afete as demais. \n"
   ]
  },
  {
   "cell_type": "markdown",
   "metadata": {},
   "source": [
    "#### Visualização do ambiente"
   ]
  },
  {
   "cell_type": "markdown",
   "metadata": {},
   "source": [
    "Para implementar e explorar o problema, usamos o ambiente CartPole-v0 do <i>toolkit</i> OpenAI Gym [[2]](#Referências). A execução do código abaixo importa o ambiente e as bibliotecas necessárias, além de plotar uma amostra de imagem do carrinho e seus arredores."
   ]
  },
  {
   "cell_type": "code",
   "execution_count": 1,
   "metadata": {},
   "outputs": [],
   "source": [
    "!apt-get install -y xvfb python-opengl > /dev/null 2>&1\n",
    "!pip install gym pyvirtualdisplay > /dev/null 2>&1"
   ]
  },
  {
   "cell_type": "code",
   "execution_count": 8,
   "metadata": {},
   "outputs": [],
   "source": [
    "import gym\n",
    "import numpy as np\n",
    "import matplotlib.pyplot as plt\n",
    "from IPython import display as ipythondisplay\n",
    "from pyvirtualdisplay import Display\n",
    "import numpy as np\n",
    "import time\n",
    "env = gym.make(\"CartPole-v0\")"
   ]
  },
  {
   "cell_type": "code",
   "execution_count": 128,
   "metadata": {},
   "outputs": [
    {
     "data": {
      "image/png": "[encoded data removed]",
      "text/plain": [
       "<Figure size 432x288 with 1 Axes>"
      ]
     },
     "metadata": {
      "needs_background": "light"
     },
     "output_type": "display_data"
    }
   ],
   "source": [
    "env.reset()\n",
    "prev_screen = env.render(mode='rgb_array')\n",
    "plt.imshow(prev_screen)\n",
    "\n",
    "for i in range(50):\n",
    "    action = env.action_space.sample() \n",
    "    #0 = ir para trás, 1 = ir pra frente\n",
    "    obs, reward, done, info = env.step(action) \n",
    "    #obs é um vetor com 4 valores: Position, Cart Velocity, Angle, Angle Velocity\n",
    "    screen = env.render(mode='rgb_array')\n",
    "    \n",
    "    plt.imshow(screen)\n",
    "    ipythondisplay.clear_output(wait=True)\n",
    "    ipythondisplay.display(plt.gcf())\n",
    "    \n",
    "    if(done):\n",
    "        break\n",
    "    \n",
    "ipythondisplay.clear_output(wait=True)\n",
    "env.close()"
   ]
  },
  {
   "cell_type": "markdown",
   "metadata": {},
   "source": [
    "#### Discretização"
   ]
  },
  {
   "cell_type": "markdown",
   "metadata": {},
   "source": [
    "Para discretizar o ambiente originalmente contínuo, criamos uma classe ``Discretizer``, que recebe como parâmetros o limite inferior, o limite superior e a quantidade de <i>bins</i> a serem criados. Tais parâmetros podem ser customizados conforme o mais adequado para cada método, verificado experimentalmente. Cada uma das variáveis --- posição, velocidade, ângulo e velocidade angular --- é discretizada e usada para constituir um estado válido a partir da função ``gen_state``. O código abaixo implementa essa lógica e imprime 20 exemplos de estados válidos. "
   ]
  },
  {
   "cell_type": "code",
   "execution_count": 10,
   "metadata": {},
   "outputs": [
    {
     "name": "stdout",
     "output_type": "stream",
     "text": [
      "(502, 502, 463, 49)\n",
      "(502, 503, 455, 47)\n",
      "(503, 503, 440, 46)\n",
      "(504, 503, 418, 47)\n",
      "(505, 502, 403, 49)\n",
      "(505, 503, 394, 47)\n",
      "(506, 502, 377, 48)\n",
      "(507, 501, 366, 50)\n",
      "(507, 502, 362, 48)\n",
      "(507, 503, 350, 46)\n",
      "(508, 502, 330, 48)\n",
      "(508, 503, 317, 46)\n",
      "(509, 502, 295, 47)\n",
      "(510, 503, 279, 45)\n",
      "(511, 504, 255, 44)\n",
      "(512, 505, 222, 42)\n",
      "(514, 504, 181, 43)\n",
      "(515, 505, 146, 41)\n",
      "(517, 506, 101, 39)\n",
      "(519, 507, 48, 37)\n"
     ]
    },
    {
     "name": "stderr",
     "output_type": "stream",
     "text": [
      "/home/ray/.local/lib/python3.6/site-packages/gym/logger.py:30: UserWarning: \u001b[33mWARN: You are calling 'step()' even though this environment has already returned done = True. You should always call 'reset()' once you receive 'done = True' -- any further steps are undefined behavior.\u001b[0m\n",
      "  warnings.warn(colorize('%s: %s'%('WARN', msg % args), 'yellow'))\n"
     ]
    }
   ],
   "source": [
    "class Discretizer:\n",
    "    def __init__(self,nbins,lower,high):\n",
    "        '''\n",
    "        Discretizamos um intervalo que vai de lower até high em nbins. \n",
    "        Todos valores do lower receberam um mesmo valor de estado,\n",
    "        assim como os acima de high\n",
    "        '''\n",
    "        self.nbins=nbins\n",
    "        self.high=high\n",
    "        self.lower=lower\n",
    "        self.thresholds=np.array([])\n",
    "        self.fit()\n",
    "    def fit(self):\n",
    "        step=(self.high-self.lower)/self.nbins \n",
    "        self.thresholds = np.arange(self.lower, self.high, step) \n",
    "    def transform(self,x):\n",
    "        return np.digitize(x,self.thresholds)\n",
    "\n",
    "position_discretizer = Discretizer(nbins = 1000 ,lower = env.observation_space.low[0], high = env.observation_space.high[0]) \n",
    "velocity_discretizer = Discretizer(nbins = 1000, lower = -100 , high = 100  ) \n",
    "angle_discretizer = Discretizer(nbins = 1000 ,lower = env.observation_space.low[2], high = env.observation_space.high[2])\n",
    "velocity_angle_discretizer = Discretizer(nbins = 100, lower = -10 , high = 10) \n",
    "\n",
    "gen_state = lambda  p, v, a, va : ( position_discretizer.transform(p), velocity_discretizer.transform(v), \n",
    "                                    angle_discretizer.transform(a), velocity_angle_discretizer.transform(va) )\n",
    "\n",
    "#Sample\n",
    "#Position, Velocity, Angle, Velocity Angle\n",
    "env.reset()\n",
    "for i in range(20):\n",
    "    action = env.action_space.sample() #0 ir para trás, 1 ir pra frente\n",
    "    obs, reward, done= env.step(action)[:3] #obs é um vetor com 4 valores, Position, Cart Velocity, Angle, Angle Velocity\n",
    "    p, v, a, va=obs\n",
    "    print(gen_state(p,v,a,va)) #Discretiza e gera estados válidos"
   ]
  },
  {
   "cell_type": "markdown",
   "metadata": {},
   "source": [
    "Os limites inferior e superior das variáveis <b>posição</b> e <b>ângulo</b> são aqueles definidos como padrão no ambiente: $p \\in [-4.8, 4.8]$ e $a \\in [-24, 24]$ (em graus). As variáveis <b>velocidade</b> e <b>velocidade angular</b> têm limites infinitos; assim, devemos definir manualmente seus limites. Como padrão, escolhemos $v \\in [-100, 100]$ e $va \\in [-10, 10]$, além de uma discretização de 1000 <i>bins</i> para <b>p</b>, <b>v</b> e <b>a</b>, e de 100 <i>bins</i> para <b>va</b>."
   ]
  },
  {
   "cell_type": "markdown",
   "metadata": {},
   "source": [
    "#### Monte Carlo Control"
   ]
  },
  {
   "cell_type": "markdown",
   "metadata": {},
   "source": [
    "O aprendizado por reforço pelo método de Monte Carlo consiste em que o agente, após completar um episódio inteiro, seja informado sobre o valor da recompensa obtida; o <i>state value</i> é aprendido a partir de uma média de N amostras de episódios que foram iniciados em um mesmo estado. O código abaixo implementa essa lógica."
   ]
  },
  {
   "cell_type": "code",
   "execution_count": 35,
   "metadata": {},
   "outputs": [],
   "source": [
    "class monte_Carlo():\n",
    "    def __init__(self, gamma = 0.9, n_episodes = 1000,n0 = 1):\n",
    "        self.n_episodes = n_episodes\n",
    "        self.gamma = gamma\n",
    "        self.n0 = n0\n",
    "        self.n_visits = {}\n",
    "        self.Q={}\n",
    "        self.Q_opt={}\n",
    "        self.states=set()\n",
    "        self.policy={}\n",
    "        self.values=[]\n",
    "        self.sample_state = (498, 501, 516, 51)\n",
    "      \n",
    "    def main(self):\n",
    "        for  i in range(1,self.n_episodes+1):\n",
    "            env.reset()\n",
    "            #Inicializamos com um estado\n",
    "            obs = env.step(env.action_space.sample())[0]\n",
    "            p, v, a, va=obs\n",
    "            init_state = gen_state(p,v,a,va) #Discretiza e gera estados válidos\n",
    "            self.update_Q(init_state)\n",
    "            self.values.append( max( self.Q_opt.get(self.sample_state, {}).get((1), 0), \n",
    "                                   self.Q_opt.get(self.sample_state, {}).get((0), 0)) )\n",
    "        self.improvement_policy()\n",
    "      \n",
    "  \n",
    "    def update_Q(self, old_state):\n",
    "        '''\n",
    "        Utilizamos umas estrutura recursiva para atualizar Q\n",
    "        '''\n",
    "        self.states.add(old_state)\n",
    "        action = (env.action_space.sample()) #0 ir para trás, 1 ir pra frente\n",
    "        obs, reward, done= env.step(action)[:3] #obs é um vetor com 4 valores, Position, Cart Velocity, Angle, Angle Velocity\n",
    "        p, v, a, va = obs\n",
    "        new_state = gen_state(p,v,a,va) #Discretiza e gera estados válidos\n",
    "        Gt=0\n",
    "        if(done==False):\n",
    "            Gt=self.gamma*self.update_Q(new_state)\n",
    "        Gt=Gt+reward\n",
    "        self.n_visits[(old_state, action)] = self.n_visits.get((old_state, action),0) + 1 #Para casa visita acrescenta 1 \n",
    "        self.Q[(old_state, action)] = self.Q.get((old_state, action),0)+(Gt-self.Q.get((old_state, action),0))/self.n_visits[(old_state, action)]\n",
    "    \n",
    "        #Rescreve Q para Q_opt para melhor acesso\n",
    "        if(self.Q_opt.get(old_state)):\n",
    "            self.Q_opt.get(old_state).update({action : self.Q[(old_state, action)]})\n",
    "        else:\n",
    "            self.Q_opt[old_state] = {action:self.Q[(old_state, action)]} \n",
    "        return Gt\n",
    "    \n",
    "    def improvement_policy(self):\n",
    "        '''\n",
    "        Balanceamento exploration x exploitation\n",
    "        '''\n",
    "        for st in self.states:\n",
    "            n=self.n_visits.get((st,0),0)+self.n_visits.get((st,1),0)#Número de vezes que o estado foi visitado\n",
    "            ek=self.n0/(self.n0+n)\n",
    "            maximo=np.max(self.Q_opt[st].values())\n",
    "            for a in self.Q_opt[st].keys():\n",
    "                if(maximo == self.Q_opt[st][a]):\n",
    "                    self.policy[(st,a)]=ek/2+1-ek\n",
    "                else:\n",
    "                    self.policy[(st,a)]=ek/2"
   ]
  },
  {
   "cell_type": "markdown",
   "metadata": {},
   "source": [
    "Abaixo, variamos a quantidade de episódios --- entre 10 e 1.000.000 --- para verificar como o algoritmo se comporta. "
   ]
  },
  {
   "cell_type": "code",
   "execution_count": 16,
   "metadata": {},
   "outputs": [
    {
     "name": "stdout",
     "output_type": "stream",
     "text": [
      "Tempo total de execução para 10^1 episódios: 0.021251916885375977 segundos\n",
      "Tempo total de execução para 10^2 episódios: 0.1813983917236328 segundos\n",
      "Tempo total de execução para 10^3 episódios: 1.4292020797729492 segundos\n",
      "Tempo total de execução para 10^4 episódios: 14.787602186203003 segundos\n",
      "Tempo total de execução para 10^5 episódios: 150.23499703407288 segundos\n",
      "Tempo total de execução para 10^6 episódios: 1392.6903173923492 segundos\n"
     ]
    }
   ],
   "source": [
    "#Variamos o número de episodes para MC\n",
    "mcs=[]\n",
    "for i in range(1,7):\n",
    "    start_time = time.time()\n",
    "    mc=monte_Carlo(n_episodes=10**i)\n",
    "    mc.main()\n",
    "    mcs.append(mc)\n",
    "    end_time = time.time()\n",
    "    total_time = end_time - start_time\n",
    "    print(\"Tempo total de execução para 10^{} episódios: {} segundos\".format(i, total_time))"
   ]
  },
  {
   "cell_type": "markdown",
   "metadata": {},
   "source": [
    "Além de calcular o tempo de execução, também computamos a média de quantas ações o pêndulo executa antes de cair, o que nos dá uma ideia da evolução do aprendizado do sistema. Quanto mais episódios, mais ações são executadas antes de o sistema falhar, o que representa o aprendizado esperado. "
   ]
  },
  {
   "cell_type": "code",
   "execution_count": 17,
   "metadata": {},
   "outputs": [
    {
     "data": {
      "text/plain": [
       "[14.37, 14.49, 16.76, 32.74, 93.38, 136.42]"
      ]
     },
     "execution_count": 17,
     "metadata": {},
     "output_type": "execute_result"
    }
   ],
   "source": [
    "def mean_actions(Q,n=100):\n",
    "    '''\n",
    "    Fazemos a média de quantas ações o pêndulo faz antes de cair \n",
    "    '''\n",
    "    mean=0\n",
    "    for i in range(n):\n",
    "        env.reset()\n",
    "        obs, reward, done = env.step(env.action_space.sample())[:3]\n",
    "        p, v, a, va=obs\n",
    "        state = gen_state(p,v,a,va) #Discretiza e gera estados válidos\n",
    "        k=0\n",
    "        while(done==False):\n",
    "            #Se caso o estado não for alcançado, ele escolhe uma ação randomica\n",
    "            s1 = Q.get((state,(1)), env.action_space.sample()) \n",
    "            s2 = Q.get((state,(0)), env.action_space.sample())\n",
    "            action = 1 if(s1>s2) else 0\n",
    "            obs, reward, done, info = env.step(action) #obs é um vetor com 4 valores, Position, Cart Velocity, Angle, Angle Velocity\n",
    "            p, v, a, va=obs\n",
    "            state = gen_state(p,v,a,va) #Discretiza e gera estados válidos\n",
    "            k+=1\n",
    "        mean+=k\n",
    "    mean=mean/n\n",
    "    return mean\n",
    "\n",
    "means = []\n",
    "for m in mcs:\n",
    "    means.append(mean_actions(m.Q))\n",
    "means"
   ]
  },
  {
   "cell_type": "code",
   "execution_count": 18,
   "metadata": {},
   "outputs": [
    {
     "data": {
      "text/plain": [
       "[<matplotlib.lines.Line2D at 0x7f8dc7a769b0>]"
      ]
     },
     "execution_count": 18,
     "metadata": {},
     "output_type": "execute_result"
    },
    {
     "data": {
      "image/png": "[encoded data removed]",
      "text/plain": [
       "<Figure size 432x288 with 1 Axes>"
      ]
     },
     "metadata": {
      "needs_background": "light"
     },
     "output_type": "display_data"
    }
   ],
   "source": [
    "#Plot\n",
    "eps = [10, 100, 1000, 10000, 100000, 1000000]\n",
    "y = means\n",
    "plt.xlabel(\"média de ações\")\n",
    "plt.ylabel(\"número de episódios\")\n",
    "plt.plot(eps, y)"
   ]
  },
  {
   "cell_type": "markdown",
   "metadata": {},
   "source": [
    "Abaixo, geramos a representação gráfica dos valores de Q ao longo da execução do algoritmo, que mostra a convergência para 100.000 episódios."
   ]
  },
  {
   "cell_type": "code",
   "execution_count": 40,
   "metadata": {},
   "outputs": [
    {
     "data": {
      "text/plain": [
       "[<matplotlib.lines.Line2D at 0x7f8d9c62e588>]"
      ]
     },
     "execution_count": 40,
     "metadata": {},
     "output_type": "execute_result"
    },
    {
     "data": {
      "image/png": "[encoded data removed]",
      "text/plain": [
       "<Figure size 432x288 with 1 Axes>"
      ]
     },
     "metadata": {
      "needs_background": "light"
     },
     "output_type": "display_data"
    }
   ],
   "source": [
    "mc=monte_Carlo(n_episodes=100000)\n",
    "mc.main()\n",
    "x = list(range(1,mc.n_episodes+1))\n",
    "y = mc.values\n",
    "plt.ylabel(\"value\")\n",
    "plt.xlabel(\"episódios\")\n",
    "plt.plot(x, y)"
   ]
  },
  {
   "cell_type": "markdown",
   "metadata": {},
   "source": [
    "Abaixo, geramos a visualização do ambiente. O comportamento do agente neste algoritmo, após convergência, pode ser assistido [neste vídeo](https://streamable.com/9ljzsq)."
   ]
  },
  {
   "cell_type": "code",
   "execution_count": 29,
   "metadata": {},
   "outputs": [],
   "source": [
    "#Sample view\n",
    "def visualizacao(Q):\n",
    "    env.reset()\n",
    "    obs, reward, done = env.step(env.action_space.sample())[:3]\n",
    "    p, v, a, va=obs\n",
    "    state = gen_state(p,v,a,va) #Discretiza e gera estados válidos\n",
    "    k=0\n",
    "    while(done==False):\n",
    "        s1 = Q.get((state,(1))) if(Q.get((state,(1)))) else env.action_space.sample()\n",
    "        s2 = Q.get((state,(0))) if(Q.get((state,(0)))) else env.action_space.sample()\n",
    "        action = 1 if(s1>s2) else 0\n",
    "        obs, reward, done, info = env.step(action) #obs é um vetor com 4 valores, Position, Cart Velocity, Angle, Angle Velocity\n",
    "        p, v, a, va=obs\n",
    "        state = gen_state(p,v,a,va) #Discretiza e gera estados válidos\n",
    "        time.sleep(0.1)\n",
    "        k+=1\n",
    "        env.render()\n",
    "    env.close()\n",
    "\n",
    "mc_better = mcs[-1]\n",
    "visualizacao(mc_better.Q)"
   ]
  },
  {
   "cell_type": "markdown",
   "metadata": {},
   "source": [
    "#### Q-learning"
   ]
  },
  {
   "cell_type": "markdown",
   "metadata": {},
   "source": [
    "O algoritmo Q-learning tem como objetivo aprender a função valor que melhor resolverá o problema no ambiente. A intiuição é que, dado um estado, o agente será informado sobre qual a melhor ação a ser tomada de modo a maximizar a expectativa de ganho futuro. O Q-learning pode ser definido canonicamente segundo a fórmula abaixo (Equação de Bellman), em que:\n",
    "- $max_{a} Q(s_{t+1}, a)$ é a estimativa de valor ótimo futuro para uma ação $a$;\n",
    "- $Q(s_{t}, a_{t})$ é a estimativa no estado $s_{t}$ atual;\n",
    "- $\\alpha$ é a taxa de aprendizado (<i>learning rate</i>), que varia de 0 a 1 e representa quão rápido o algoritmo aprende a função;\n",
    "- $\\gamma$ é o fator de desconto (<i>discount factor</i>), que varia de 0 a 1 e representa a proporção de importância dada à recompensa em longo prazo. "
   ]
  },
  {
   "cell_type": "markdown",
   "metadata": {},
   "source": [
    "\\begin{equation}\n",
    "Q(s_{t}, a_{t}) \\leftarrow Q(s_{t}, a_{t}) + \\alpha \\cdot (r_{t} + \\gamma \\cdot max_{a} Q(s_{t+1}, a) - Q(s_{t}, a_{t}))\n",
    "\\end{equation}"
   ]
  },
  {
   "cell_type": "markdown",
   "metadata": {},
   "source": [
    "O código abaixo, adaptado de Richard Brooker [[3]](#Referências), implementa essa lógica, seguindo os passos:\n",
    "- Inicializar a ``Q_table`` com zeros; \n",
    "- Criar funções para: implementar a política gulosa de selecionar o maior valor Q da tabela; atualizar a função valor; definir uma taxa de aprendizado adaptativa, que diminui com o tempo; definir uma taxa de exploração adaptativa, que diminui com o tempo para gradativamente privilegiar exploitação;\n",
    "- Definir os níveis de discretização;\n",
    "- Definir a quantidade de episódios;\n",
    "- Executar o modelo. \n",
    "\n",
    "Os parâmetros escolhidos para execução definitiva do modelo, determinados experimentalmente, são:\n",
    "- Quantidade de <i>bins</i>: 10 para cada variável (para ordens de grandeza maiores, o armazenamento de ``Q_table`` se tornava impraticável);\n",
    "- Domínios de variáveis padrão, exceto para velocidade angular, em que $va \\in [-50, 50]$ (em radianos);\n",
    "- 1000 episódios (iterações) (para ordens de grandeza maiores, o tempo de execução se tornava muito longo);\n",
    "- Fator de desconto 1."
   ]
  },
  {
   "cell_type": "code",
   "execution_count": 144,
   "metadata": {},
   "outputs": [
    {
     "data": {
      "text/plain": [
       "(11, 11, 11, 11, 2)"
      ]
     },
     "execution_count": 144,
     "metadata": {},
     "output_type": "execute_result"
    }
   ],
   "source": [
    "n_bins=(11,11,11,11)\n",
    "\n",
    "#Inicializa tabela com zeros\n",
    "Q_table = np.zeros(n_bins + (env.action_space.n,))\n",
    "Q_table.shape"
   ]
  },
  {
   "cell_type": "code",
   "execution_count": 152,
   "metadata": {},
   "outputs": [],
   "source": [
    "#Cria policy function; usa Q-table para selecionar o maior Q\n",
    "def policy( state : tuple ):\n",
    "    return np.argmax(Q_table[state])\n",
    "\n",
    "#Atualiza função valor\n",
    "def new_Q_value( reward : float ,  new_state : tuple , discount_factor=1 ) -> float:\n",
    "    future_optimal_value = np.max(Q_table[new_state])\n",
    "    learned_value = reward + discount_factor * future_optimal_value\n",
    "    return learned_value\n",
    "\n",
    "#Taxa de aprendizado adaptativa\n",
    "def learning_rate(n : int , min_rate=0.01 ) -> float  :\n",
    "    return max(min_rate, min(1.0, 1.0 - math.log10((n + 1) / 25)))\n",
    "\n",
    "#Taxa de exploração adaptativa; tradeoff exploração-exploitação\n",
    "def exploration_rate(n : int, min_rate= 0.1 ) -> float :\n",
    "    return max(min_rate, min(1, 1.0 - math.log10((n  + 1) / 25)))"
   ]
  },
  {
   "cell_type": "code",
   "execution_count": 153,
   "metadata": {},
   "outputs": [],
   "source": [
    "#Discretização\n",
    "env.reset()\n",
    "\n",
    "position_discretizer = Discretizer(nbins = 10 ,lower = env.observation_space.low[0], high = env.observation_space.high[0]) \n",
    "velocity_discretizer = Discretizer(nbins = 10, lower = -100 , high = 100  ) \n",
    "angle_discretizer = Discretizer(nbins = 10 ,lower = env.observation_space.low[2], high = env.observation_space.high[2])\n",
    "velocity_angle_discretizer = Discretizer(nbins = 10, lower = -math.radians(50) , high = math.radians(50)) \n",
    "\n",
    "gen_state = lambda  p, v, a, va : ( position_discretizer.transform(p), velocity_discretizer.transform(v), \n",
    "                                   angle_discretizer.transform(a), velocity_angle_discretizer.transform(va) )"
   ]
  },
  {
   "cell_type": "code",
   "execution_count": 156,
   "metadata": {},
   "outputs": [
    {
     "name": "stdout",
     "output_type": "stream",
     "text": [
      "Tempo total de execução: 296.2074270248413 segundos\n"
     ]
    }
   ],
   "source": [
    "#Training e execução\n",
    "n_episodes = 1000 \n",
    "q_values = [] \n",
    "\n",
    "start_time = time.time()\n",
    "\n",
    "for e in range(n_episodes):\n",
    "\n",
    "    #Inicializamos com um estado\n",
    "    env.reset()\n",
    "    obs = env.step(env.action_space.sample())[0]\n",
    "    p, v, a, va=obs\n",
    "    current_state = gen_state(p,v,a,va) #Discretiza e gera estado válido\n",
    "\n",
    "    done = False\n",
    "\n",
    "    while done==False:\n",
    "        \n",
    "        # Policy action \n",
    "        action = policy(current_state) # exploit\n",
    "        \n",
    "        # Insere ação aleatória\n",
    "        if np.random.random() < exploration_rate(e) : \n",
    "            action = env.action_space.sample() # explore \n",
    "         \n",
    "        # Atualiza ambiente\n",
    "        obs, reward, done, _ = env.step(action)\n",
    "        p, v, a, va = obs\n",
    "        new_state = gen_state(p,v,a,va)\n",
    "        \n",
    "        # Atualiza Q-Table\n",
    "        lr = learning_rate(e)\n",
    "        learnt_value = new_Q_value(reward , new_state)\n",
    "        old_value = Q_table[current_state][action]\n",
    "        Q_table[current_state][action] = (1-lr)*old_value + lr*learnt_value\n",
    "        q_values.append(Q_table[current_state][action])\n",
    "        \n",
    "        current_state = new_state\n",
    "        \n",
    "        # Render do ambiente\n",
    "        env.render()\n",
    "        \n",
    "    \n",
    "end_time = time.time()\n",
    "total_time = end_time - start_time\n",
    "print(\"Tempo total de execução: {} segundos\".format(total_time))"
   ]
  },
  {
   "cell_type": "markdown",
   "metadata": {},
   "source": [
    "Abaixo, plotamos a variação dos valores de Q em função do tempo. O gráfico mostra que o algoritmo convergiu rapidamente para a solução."
   ]
  },
  {
   "cell_type": "code",
   "execution_count": 157,
   "metadata": {
    "scrolled": true
   },
   "outputs": [
    {
     "data": {
      "image/png": "[encoded data removed]",
      "text/plain": [
       "<Figure size 432x288 with 1 Axes>"
      ]
     },
     "metadata": {
      "needs_background": "light"
     },
     "output_type": "display_data"
    }
   ],
   "source": [
    "#episodes = np.arange(0, n_episodes, 1)\n",
    "x = np.arange(0, len(q_values), 1)\n",
    "plt.plot(x, q_values)\n",
    "plt.show()"
   ]
  },
  {
   "cell_type": "markdown",
   "metadata": {},
   "source": [
    "A visualização do comportamento do cartpole neste algoritmo, após convergência, encontra-se [neste vídeo](https://streamable.com/of543q)."
   ]
  },
  {
   "cell_type": "markdown",
   "metadata": {},
   "source": [
    "#### Sarsa-Lambda"
   ]
  },
  {
   "cell_type": "markdown",
   "metadata": {},
   "source": [
    "O algoritmo Sarsa (acrônimo para <i>state–action–reward–state–action</i>) é usado em aprendizado por reforço para que um agente aprenda a política de um processo decisório de Markov. A fórmula que o sintetiza encontra-se abaixo, em que:\n",
    "- $Q(s_{t}, a_{t})$ é a estimativa de valor obtido de uma ação $a$ tomada em um estado $s$;\n",
    "- $\\alpha$ é a taxa de aprendizado (<i>learning rate</i>), que varia de 0 a 1 e representa quão rápido o algoritmo aprende a função;\n",
    "- $r_{t+1}$ é a recompensa associada à tomada de uma ação $a$ em um estado $s$ num tempo $t$;\n",
    "- $\\gamma$ é o fator de desconto (<i>discount factor</i>), que varia de 0 a 1 e representa a proporção de importância dada à recompensa em longo prazo. "
   ]
  },
  {
   "cell_type": "markdown",
   "metadata": {},
   "source": [
    "\\begin{equation}\n",
    "Q(s_{t}, a_{t}) \\leftarrow Q(s_{t}, a_{t}) + \\alpha \\cdot [r_{t+1} + \\gamma \\cdot Q(s_{t+1}, a_{t+1}) - Q(s_{t}, a_{t}))]\n",
    "\\end{equation}"
   ]
  },
  {
   "cell_type": "markdown",
   "metadata": {},
   "source": [
    "Sarsa-Lambda é uma variação de Sarsa em que cada par estado-ação tem um traço de eligibilidade. O código abaixo implementa sua lógica."
   ]
  },
  {
   "cell_type": "code",
   "execution_count": 32,
   "metadata": {},
   "outputs": [
    {
     "name": "stdout",
     "output_type": "stream",
     "text": [
      "Tempo total de execução: 1468.7461330890656 segundos\n"
     ]
    }
   ],
   "source": [
    "class sarsa_lambda():\n",
    "    def __init__(self, policy={}, n_episodes=1000, gamma=0.9, lamb = 1, alpha = 0.9):\n",
    "        self.n_episodes = n_episodes\n",
    "        self.gamma = gamma\n",
    "        self.lamb = lamb\n",
    "        self.alpha = alpha\n",
    "        self.E = {}\n",
    "        self.Q = {}\n",
    "\n",
    "    def choose_action(self,s):\n",
    "        if(policy.get(s)):\n",
    "            porcen0 = policy[s].get(0) or 0\n",
    "            aux=round(porcen0*10)\n",
    "            v=np.array(aux*[0]+(10-aux)*[1])\n",
    "            np.random.shuffle(v)\n",
    "            return np.random.choice(v,1)[0]\n",
    "        else:\n",
    "            return env.action_space.sample()\n",
    "\n",
    "    def main(self):\n",
    "        for e in range(self.n_episodes):\n",
    "            env.reset()\n",
    "            obs = env.step(env.action_space.sample())[0]\n",
    "            p, v, a, va=obs\n",
    "            s1 = gen_state(p,v,a,va) #Discretiza e gera estados válidos\n",
    "            action1 = env.action_space.sample()\n",
    "            done=False\n",
    "            while(done==False):\n",
    "                obs, reward, done = env.step(action1)[:3]\n",
    "                p, v, a, va=obs   \n",
    "                s2 = gen_state(p,v,a,va)\n",
    "                action2=self.choose_action(s2) #Escolhe uma ação com base em uma política\n",
    "                delta = reward+self.gamma*self.Q.get((s2,action2),0 )-self.Q.get((s1,action1),0 )\n",
    "                self.E[(s1,action1)]=self.E.get((s1,action1),0)+1\n",
    "                for st_a in self.E.keys():\n",
    "                    self.Q[st_a] = self.Q.get(st_a, 0) + self.alpha*delta*self.E[st_a]\n",
    "                    self.E[st_a] = self.gamma*self.lamb*self.E[st_a]\n",
    "                s1=s2\n",
    "                action1=action2\n",
    "mc_better = mcs[-1]\n",
    "policy = mc_better.policy\n",
    "lambs =[0, 0.2, 0.4, 0.6, 0.8, 1]\n",
    "sarsas = []\n",
    "start_time = time.time()\n",
    "for lamb in lambs:\n",
    "    sarsa=sarsa_lambda(policy, lamb=lamb)\n",
    "    sarsa.main()\n",
    "    sarsas.append(sarsa)\n",
    "    \n",
    "end_time = time.time()\n",
    "total_time = end_time - start_time\n",
    "print(\"Tempo total de execução: {} segundos\".format(total_time))"
   ]
  },
  {
   "cell_type": "markdown",
   "metadata": {},
   "source": [
    "O gráfico abaixo mostra a média de ações executadas para cada valor de lambda. Como não houve convergência para 1000 episódios, não há nenhum padrão observável nessa visualização. Caso houvesse aprendizado satisfatório, possivelmente haveria um lambda para o qual a quantidade média de ações seria otimizada."
   ]
  },
  {
   "cell_type": "code",
   "execution_count": 34,
   "metadata": {},
   "outputs": [
    {
     "data": {
      "text/plain": [
       "[<matplotlib.lines.Line2D at 0x7f8e408d2208>]"
      ]
     },
     "execution_count": 34,
     "metadata": {},
     "output_type": "execute_result"
    },
    {
     "data": {
      "image/png": "[encoded data removed]",
      "text/plain": [
       "<Figure size 432x288 with 1 Axes>"
      ]
     },
     "metadata": {
      "needs_background": "light"
     },
     "output_type": "display_data"
    }
   ],
   "source": [
    "means = []\n",
    "for s in sarsas:\n",
    "    means.append(mean_actions(s.Q))\n",
    "\n",
    "lambdas = [0, 0.2, 0.4, 0.6, 0.8, 1]\n",
    "y = means\n",
    "plt.ylabel(\"média de ações\")\n",
    "plt.xlabel(\"lambda\")\n",
    "plt.plot(lambdas, y)"
   ]
  },
  {
   "cell_type": "markdown",
   "metadata": {},
   "source": [
    "#### Aproximador de função linear"
   ]
  },
  {
   "cell_type": "markdown",
   "metadata": {},
   "source": [
    "Aproximadores de função não foram implementados. "
   ]
  },
  {
   "cell_type": "markdown",
   "metadata": {},
   "source": [
    "#### Síntese dos resultados e discussões"
   ]
  },
  {
   "cell_type": "markdown",
   "metadata": {},
   "source": [
    "- <b>Comparação entre algoritmos</b>:\n",
    "\n",
    "|           |Tempo para execução e aprendizado| Resultado|\n",
    "|-----------|---------------------------------|----------|\n",
    "|Monte Carlo|Execução total em 1.43 segundos (1000 episódios); aprendizado em aproximadamente 10% do tempo|Satisfatório, com convergência para solução|\n",
    "|Q-learning|Execução total em 296 segundos (1000 episódios); aprendizado em aproximadamente 20% do tempo|Satisfatório, com convergência para solução|\n",
    "|Sarsa-Lambda|Execução total em 1468 segundos (1000 episódios)|Não houve convergência|\n",
    "\n",
    "Para 1000 episódios, Sarsa-Lambda foi o único algoritmo que não alcançou convergência, além de ser o de execução mais lenta, possivelmente em razão dos traços de eligibilidade associados a cada par estado-ação. Assumindo o tempo de execução como indicador de complexidade computacional (dado que as versões definitivas de todos os experimentos foram executadas na mesma máquina), Sarsa-Lambda é o algoritmo mais complexo, seguido por Q-learning e Monte Carlo Control. Ressaltamos, também, que Q-learning atingiu resultados tão satisfatórios quanto Monte Carlo Control mesmo com uma discretização mais grosseira. \n",
    "\n",
    "- <b>Considerações sobre a função de recompensa</b>: O modelo de recompensa que usamos privilegia a manutenção do mastro em pé, punindo o agente com recompensa zero somente quando o mastro cai. Por esse motivo, consideramos esperado o comportamento do agente de não se locomover fora de uma zona central do trilho --- o contrário, por exemplo, do que ocorre [nesta demonstração](https://www.youtube.com/watch?v=5SEEwqRH8_c). Ainda assim, o resultado foi satisfatório para os algoritmos Monte Carlo Control e Q-learning. "
   ]
  },
  {
   "cell_type": "markdown",
   "metadata": {},
   "source": [
    "#### Descrição das tarefas do grupo"
   ]
  },
  {
   "cell_type": "markdown",
   "metadata": {},
   "source": [
    "Todos os membros do grupo participaram da etapa de definição/estudo do problema. As demais tarefas foram realizadas por apenas dois dos integrantes, conforme descrito abaixo: \n",
    "\n",
    "- Mauricio: Estudo, implementação, testes e visualizações dos algoritmos Monte Carlo Control e Sarsa-Lambda; Visualização do ambiente; Discretização. \n",
    "- Raysa: Estudo, implementação, testes e visualizações do algoritmo Q-learning; Visualização do ambiente; Vídeos; Escrita e organização do relatório.  \n",
    "\n",
    "OBS.: o grupo foi originalmente constituído por quatro pessoas, conforme especificação, mas um dos membros abandonou a disciplina. "
   ]
  },
  {
   "cell_type": "markdown",
   "metadata": {},
   "source": [
    "#### Referências"
   ]
  },
  {
   "cell_type": "markdown",
   "metadata": {},
   "source": [
    "[1] A. G. Barto, R. S. Sutton and C. W. Anderson, \"Neuronlike adaptive elements that can solve difficult learning control problems,\" in <i>IEEE Transactions on Systems, Man, and Cybernetics</i>, vol. SMC-13, no. 5, pp. 834-846, Sept.-Oct. 1983, doi: 10.1109/TSMC.1983.6313077.\n",
    "\n",
    "[2] OpenAI Gym: CartPole-v0. https://gym.openai.com/envs/CartPole-v0/ \n",
    "\n",
    "[3] Q-learning-demo-Cartpole-V1 by Richard Brooker. https://github.com/RJBrooker/Q-learning-demo-Cartpole-V1"
   ]
  }
 ],
 "metadata": {
  "kernelspec": {
   "display_name": "Python 3",
   "language": "python",
   "name": "python3"
  },
  "language_info": {
   "codemirror_mode": {
    "name": "ipython",
    "version": 3
   },
   "file_extension": ".py",
   "mimetype": "text/x-python",
   "name": "python",
   "nbconvert_exporter": "python",
   "pygments_lexer": "ipython3",
   "version": "3.6.9"
  }
 },
 "nbformat": 4,
 "nbformat_minor": 2
}
