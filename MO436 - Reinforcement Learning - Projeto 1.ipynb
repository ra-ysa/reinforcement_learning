{
 "cells": [
  {
   "cell_type": "markdown",
   "metadata": {},
   "source": [
    "## MO436 - Tópicos em Aprendizado de Máquina: Reinforcement Learning - 2s2020\n",
    "\n",
    "### Projeto 1\n",
    "Leandro Rebes Camargo, 150960 | Mauricio de Sousa Araujo, 184477 | Raysa Masson Benatti, 176483"
   ]
  },
  {
   "cell_type": "markdown",
   "metadata": {},
   "source": [
    "#### Introdução"
   ]
  },
  {
   "cell_type": "markdown",
   "metadata": {},
   "source": [
    "O objetivo deste trabalho é aplicar métodos de aprendizado por reforço para resolver um problema definido pelo grupo. No nosso caso, optamos por estudar e resolver o problema do <b>CartPole</b>. \n",
    "    \n",
    "Conforme definido por Barto, Sutton e Anderson [[1]](#Referências), trata-se de um sistema simulado que representa um pêndulo invertido. Nessa simulação, o <b>agente</b> é um carrinho que se move em um trilho sem atrito de uma dimensão, para a esquerda ou direita; ligado ao carrinho, encontra-se uma estaca, que se move angularmente, em sentido horário ou anti-horário. O objetivo do problema é colocar o carrinho em movimento de modo que a estaca (pêndulo) permaneça ereta. \n",
    "\n",
    "Para atingir esse objetivo, devemos controlar as variáveis do modelo. São quatro variáveis, que definem os <b>estados</b> do sistema: (1) a posição <b>p</b> do carrinho no trilho; (2) a velocidade <b>v</b> do carrinho; (3) o ângulo <b>a</b> que a estaca forma com o eixo vertical do carrinho; (4) a velocidade angular <b>va</b> de movimento da estaca.\n",
    "\n",
    "O modelo tem duas <b>ações</b> possíveis: movimentar o carrinho sobre o trilho para a esquerda ou para a direita.\n",
    "\n",
    "Um estado desse sistema é <b>terminal</b> nas seguintes situações: (1) se o módulo do ângulo <b>a</b> é maior que 12 graus (o que representa, na prática, a queda da estaca); (2) se o centro do carrinho atinge alguma borda do ambiente; (3) se a quantidade máxima de episódios definida foi atingida. Os estados terminais (1) e (2) são considerados fracassos; o estado terminal (3) é bem-sucedido e representa o objetivo do problema <b>se</b>, quando é atingido, o carrinho se movimenta com a estaca ereta. Por padrão, a cada ação tomada, o ambiente fornece ao agente um <i>feedback</i> --- ou <b>recompensa</b> --- no valor de 1; se a ação resulta em um estado (1) ou (2), o ambiente enviará um <i>failure signal</i> através da variável booleana ``done``, cujo valor será modificado de ``False`` para ``True``. Caso a ação faça a estaca cair (estado (1)), a recompensa será zero.\n",
    "\n",
    "O ambiente se caracteriza como <b>estocástico</b>, pois não é possível determinar o resultado a partir de um estado atual, e <b>não episódico</b>, pois as ações do agente são relacionadas (ações presentes afetam ações futuras). \n"
   ]
  },
  {
   "cell_type": "markdown",
   "metadata": {},
   "source": [
    "#### Visualização do ambiente"
   ]
  },
  {
   "cell_type": "markdown",
   "metadata": {},
   "source": [
    "Para implementar e explorar o problema, usamos o ambiente CartPole-v0 do <i>toolkit</i> OpenAI Gym [[2]](#Referências). A execução do código abaixo importa o ambiente e as bibliotecas necessárias, além de plotar uma amostra de imagem do carrinho e seus arredores."
   ]
  },
  {
   "cell_type": "code",
   "execution_count": 1,
   "metadata": {},
   "outputs": [],
   "source": [
    "!apt-get install -y xvfb python-opengl > /dev/null 2>&1\n",
    "!pip install gym pyvirtualdisplay > /dev/null 2>&1"
   ]
  },
  {
   "cell_type": "code",
   "execution_count": 127,
   "metadata": {},
   "outputs": [],
   "source": [
    "import gym\n",
    "import numpy as np\n",
    "import matplotlib.pyplot as plt\n",
    "from IPython import display as ipythondisplay\n",
    "from pyvirtualdisplay import Display\n",
    "import numpy as np\n",
    "import time\n",
    "env = gym.make(\"CartPole-v0\")"
   ]
  },
  {
   "cell_type": "code",
   "execution_count": 128,
   "metadata": {},
   "outputs": [
    {
     "data": {
      "image/png": "[encoded data removed]",
      "text/plain": [
       "<Figure size 432x288 with 1 Axes>"
      ]
     },
     "metadata": {
      "needs_background": "light"
     },
     "output_type": "display_data"
    }
   ],
   "source": [
    "env.reset()\n",
    "prev_screen = env.render(mode='rgb_array')\n",
    "plt.imshow(prev_screen)\n",
    "\n",
    "for i in range(50):\n",
    "    action = env.action_space.sample() \n",
    "    #0 = ir para trás, 1 = ir pra frente\n",
    "    obs, reward, done, info = env.step(action) \n",
    "    #obs é um vetor com 4 valores: Position, Cart Velocity, Angle, Angle Velocity\n",
    "    screen = env.render(mode='rgb_array')\n",
    "    \n",
    "    plt.imshow(screen)\n",
    "    ipythondisplay.clear_output(wait=True)\n",
    "    ipythondisplay.display(plt.gcf())\n",
    "    \n",
    "    if(done):\n",
    "        break\n",
    "    \n",
    "ipythondisplay.clear_output(wait=True)\n",
    "env.close()"
   ]
  },
  {
   "cell_type": "markdown",
   "metadata": {},
   "source": [
    "#### Discretização"
   ]
  },
  {
   "cell_type": "markdown",
   "metadata": {},
   "source": [
    "Para discretizar o ambiente, criamos uma classe ``Discretizer``, que recebe como parâmetros o limite inferior, o limite superior e a quantidade de <i>bins</i> a serem criados. Tais parâmetros podem ser customizados conforme o mais adequado para cada método, verificado experimentalmente. Cada uma das variáveis --- posição, velocidade, ângulo e velocidade angular --- é discretizada e usada para constituir um estado válido a partir da função ``gen_state``. O código abaixo implementa essa lógica e imprime 20 exemplos de estados válidos. "
   ]
  },
  {
   "cell_type": "code",
   "execution_count": 129,
   "metadata": {},
   "outputs": [
    {
     "name": "stdout",
     "output_type": "stream",
     "text": [
      "(498, 501, 498, 49)\n",
      "(498, 502, 492, 48)\n",
      "(499, 503, 478, 46)\n",
      "(500, 504, 458, 45)\n",
      "(502, 505, 430, 43)\n",
      "(504, 506, 395, 42)\n",
      "(506, 507, 353, 40)\n",
      "(509, 506, 303, 41)\n",
      "(512, 505, 259, 43)\n",
      "(514, 506, 221, 41)\n",
      "(516, 505, 175, 42)\n",
      "(518, 504, 133, 43)\n",
      "(520, 505, 97, 41)\n",
      "(522, 504, 51, 42)\n",
      "(523, 503, 10, 43)\n",
      "(524, 504, 0, 41)\n",
      "(526, 503, 0, 41)\n",
      "(527, 503, 0, 42)\n",
      "(528, 502, 0, 42)\n",
      "(529, 501, 0, 43)\n"
     ]
    },
    {
     "name": "stderr",
     "output_type": "stream",
     "text": [
      "/home/ray/.local/lib/python3.6/site-packages/gym/logger.py:30: UserWarning: \u001b[33mWARN: You are calling 'step()' even though this environment has already returned done = True. You should always call 'reset()' once you receive 'done = True' -- any further steps are undefined behavior.\u001b[0m\n",
      "  warnings.warn(colorize('%s: %s'%('WARN', msg % args), 'yellow'))\n"
     ]
    }
   ],
   "source": [
    "class Discretizer:\n",
    "    def __init__(self,nbins,lower,high):\n",
    "        '''\n",
    "        Discretizamos um intervalo que vai de lower até high em nbins. \n",
    "        Todos valores do lower receberam um mesmo valor de estado,\n",
    "        assim como os acima de high\n",
    "        '''\n",
    "        self.nbins=nbins\n",
    "        self.high=high\n",
    "        self.lower=lower\n",
    "        self.thresholds=np.array([])\n",
    "        self.fit()\n",
    "    def fit(self):\n",
    "        step=(self.high-self.lower)/self.nbins \n",
    "        self.thresholds = np.arange(self.lower, self.high, step) \n",
    "    def transform(self,x):\n",
    "        return np.digitize(x,self.thresholds)\n",
    "\n",
    "position_discretizer = Discretizer(nbins = 1000 ,lower = env.observation_space.low[0], high = env.observation_space.high[0]) \n",
    "velocity_discretizer = Discretizer(nbins = 1000, lower = -100 , high = 100  ) \n",
    "angle_discretizer = Discretizer(nbins = 1000 ,lower = env.observation_space.low[2], high = env.observation_space.high[2])\n",
    "velocity_angle_discretizer = Discretizer(nbins = 100, lower = -10 , high = 10) \n",
    "\n",
    "gen_state = lambda  p, v, a, va : ( position_discretizer.transform(p), velocity_discretizer.transform(v), \n",
    "                                    angle_discretizer.transform(a), velocity_angle_discretizer.transform(va) )\n",
    "\n",
    "#Sample\n",
    "#Position, Velocity, Angle, Velocity Angle\n",
    "env.reset()\n",
    "for i in range(20):\n",
    "    action = env.action_space.sample() #0 ir para trás, 1 ir pra frente\n",
    "    obs, reward, done= env.step(action)[:3] #obs é um vetor com 4 valores, Position, Cart Velocity, Angle, Angle Velocity\n",
    "    p, v, a, va=obs\n",
    "    print(gen_state(p,v,a,va)) #Discretiza e gera estados válidos"
   ]
  },
  {
   "cell_type": "markdown",
   "metadata": {},
   "source": [
    "Os limites inferior e superior das variáveis <b>posição</b> e <b>ângulo</b> são aqueles definidos como padrão no ambiente: $p \\in [-4.8, 4.8]$ e $a \\in [-24, 24]$ (em graus). As variáveis <b>velocidade</b> e <b>velocidade angular</b> têm limites infinitos; assim, devemos definir manualmente seus limites. Como padrão, escolhemos $v \\in [-100, 100]$ e $va \\in [-10, 10]$, além de uma discretização de 1000 <i>bins</i> para <b>p</b>, <b>v</b> e <b>a</b>, e de 100 <i>bins</i> para <b>va</b>."
   ]
  },
  {
   "cell_type": "markdown",
   "metadata": {},
   "source": [
    "#### Monte Carlo Control"
   ]
  },
  {
   "cell_type": "code",
   "execution_count": null,
   "metadata": {},
   "outputs": [],
   "source": []
  },
  {
   "cell_type": "code",
   "execution_count": null,
   "metadata": {},
   "outputs": [],
   "source": []
  },
  {
   "cell_type": "code",
   "execution_count": null,
   "metadata": {},
   "outputs": [],
   "source": []
  },
  {
   "cell_type": "code",
   "execution_count": null,
   "metadata": {},
   "outputs": [],
   "source": []
  },
  {
   "cell_type": "code",
   "execution_count": null,
   "metadata": {},
   "outputs": [],
   "source": []
  },
  {
   "cell_type": "code",
   "execution_count": null,
   "metadata": {},
   "outputs": [],
   "source": []
  },
  {
   "cell_type": "markdown",
   "metadata": {},
   "source": [
    "#### Q-learning"
   ]
  },
  {
   "cell_type": "markdown",
   "metadata": {},
   "source": [
    "O algoritmo Q-learning tem como objetivo aprender a função valor que melhor resolverá o problema no ambiente. A intiuição é que, dado um estado, o agente será informado sobre qual a melhor ação a ser tomada de modo a maximizar a expectativa de ganho futuro. O Q-learning pode ser definido canonicamente segundo a fórmula abaixo (Equação de Bellman), em que:\n",
    "- $max_{a} Q(s_{t+1}, a)$ é a estimativa de valor ótimo futuro para uma ação $a$;\n",
    "- $Q(s_{t}, a_{t})$ é a estimativa no estado $s_{t}$ atual;\n",
    "- $\\alpha$ é a taxa de aprendizado (<i>learning rate</i>), que varia de 0 a 1 e representa quão rápido o algoritmo aprende a função;\n",
    "- $\\gamma$ é o fator de desconto (<i>discount factor</i>), que varia de 0 a 1 e representa a proporção de importância dada à recompensa em longo prazo. "
   ]
  },
  {
   "cell_type": "markdown",
   "metadata": {},
   "source": [
    "\\begin{equation}\n",
    "Q(s_{t}, a_{t}) \\leftarrow Q(s_{t}, a_{t}) + \\alpha \\cdot (r_{t} + \\gamma \\cdot max_{a} Q(s_{t+1}, a) - Q(s_{t}, a_{t}))\n",
    "\\end{equation}"
   ]
  },
  {
   "cell_type": "markdown",
   "metadata": {},
   "source": [
    "O código abaixo, adaptado de Richard Brooker [[3]](#Referências), implementa essa lógica, seguindo os passos:\n",
    "- Inicializar a ``Q_table`` com zeros; \n",
    "- Criar funções para: implementar a política gulosa de selecionar o maior valor Q da tabela; atualizar a função valor; definir uma taxa de aprendizado adaptativa, que diminui com o tempo; definir uma taxa de exploração adaptativa, que diminui com o tempo para gradativamente privilegiar exploitação;\n",
    "- Definir os níveis de discretização;\n",
    "- Definir a quantidade de episódios;\n",
    "- Executar o modelo. \n",
    "\n",
    "Os parâmetros escolhidos para execução definitiva do modelo, determinados experimentalmente, são:\n",
    "- Quantidade de <i>bins</i>: 10 para cada variável (para ordens de grandeza maiores, o armazenamento de ``Q_table`` se tornava impraticável);\n",
    "- Domínios de variáveis padrão, exceto para velocidade angular, em que $va \\in [-50, 50]$ (em radianos);\n",
    "- 1000 episódios (iterações) (para ordens de grandeza maiores, o tempo de execução se tornava muito longo);\n",
    "- Fator de desconto 1."
   ]
  },
  {
   "cell_type": "code",
   "execution_count": 144,
   "metadata": {},
   "outputs": [
    {
     "data": {
      "text/plain": [
       "(11, 11, 11, 11, 2)"
      ]
     },
     "execution_count": 144,
     "metadata": {},
     "output_type": "execute_result"
    }
   ],
   "source": [
    "n_bins=(11,11,11,11)\n",
    "\n",
    "#Inicializa tabela com zeros\n",
    "Q_table = np.zeros(n_bins + (env.action_space.n,))\n",
    "Q_table.shape"
   ]
  },
  {
   "cell_type": "code",
   "execution_count": 152,
   "metadata": {},
   "outputs": [],
   "source": [
    "#Cria policy function; usa Q-table para selecionar o maior Q\n",
    "def policy( state : tuple ):\n",
    "    return np.argmax(Q_table[state])\n",
    "\n",
    "#Atualiza função valor\n",
    "def new_Q_value( reward : float ,  new_state : tuple , discount_factor=1 ) -> float:\n",
    "    future_optimal_value = np.max(Q_table[new_state])\n",
    "    learned_value = reward + discount_factor * future_optimal_value\n",
    "    return learned_value\n",
    "\n",
    "#Taxa de aprendizado adaptativa\n",
    "def learning_rate(n : int , min_rate=0.01 ) -> float  :\n",
    "    return max(min_rate, min(1.0, 1.0 - math.log10((n + 1) / 25)))\n",
    "\n",
    "#Taxa de exploração adaptativa; tradeoff exploração-exploitação\n",
    "def exploration_rate(n : int, min_rate= 0.1 ) -> float :\n",
    "    return max(min_rate, min(1, 1.0 - math.log10((n  + 1) / 25)))"
   ]
  },
  {
   "cell_type": "code",
   "execution_count": 153,
   "metadata": {},
   "outputs": [],
   "source": [
    "#Discretização\n",
    "env.reset()\n",
    "\n",
    "position_discretizer = Discretizer(nbins = 10 ,lower = env.observation_space.low[0], high = env.observation_space.high[0]) \n",
    "velocity_discretizer = Discretizer(nbins = 10, lower = -100 , high = 100  ) \n",
    "angle_discretizer = Discretizer(nbins = 10 ,lower = env.observation_space.low[2], high = env.observation_space.high[2])\n",
    "velocity_angle_discretizer = Discretizer(nbins = 10, lower = -math.radians(50) , high = math.radians(50)) \n",
    "\n",
    "gen_state = lambda  p, v, a, va : ( position_discretizer.transform(p), velocity_discretizer.transform(v), \n",
    "                                   angle_discretizer.transform(a), velocity_angle_discretizer.transform(va) )"
   ]
  },
  {
   "cell_type": "code",
   "execution_count": 156,
   "metadata": {},
   "outputs": [
    {
     "name": "stdout",
     "output_type": "stream",
     "text": [
      "Tempo total de execução: 296.2074270248413 segundos\n"
     ]
    }
   ],
   "source": [
    "#Training e execução\n",
    "n_episodes = 1000 \n",
    "q_values = [] \n",
    "\n",
    "start_time = time.time()\n",
    "\n",
    "for e in range(n_episodes):\n",
    "\n",
    "    #Inicializamos com um estado\n",
    "    env.reset()\n",
    "    obs = env.step(env.action_space.sample())[0]\n",
    "    p, v, a, va=obs\n",
    "    current_state = gen_state(p,v,a,va) #Discretiza e gera estado válido\n",
    "\n",
    "    done = False\n",
    "\n",
    "    while done==False:\n",
    "        \n",
    "        # Policy action \n",
    "        action = policy(current_state) # exploit\n",
    "        \n",
    "        # Insere ação aleatória\n",
    "        if np.random.random() < exploration_rate(e) : \n",
    "            action = env.action_space.sample() # explore \n",
    "         \n",
    "        # Atualiza ambiente\n",
    "        obs, reward, done, _ = env.step(action)\n",
    "        p, v, a, va = obs\n",
    "        new_state = gen_state(p,v,a,va)\n",
    "        \n",
    "        # Atualiza Q-Table\n",
    "        lr = learning_rate(e)\n",
    "        learnt_value = new_Q_value(reward , new_state)\n",
    "        old_value = Q_table[current_state][action]\n",
    "        Q_table[current_state][action] = (1-lr)*old_value + lr*learnt_value\n",
    "        q_values.append(Q_table[current_state][action])\n",
    "        \n",
    "        current_state = new_state\n",
    "        \n",
    "        # Render do ambiente\n",
    "        env.render()\n",
    "        \n",
    "    \n",
    "end_time = time.time()\n",
    "total_time = end_time - start_time\n",
    "print(\"Tempo total de execução: {} segundos\".format(total_time))"
   ]
  },
  {
   "cell_type": "markdown",
   "metadata": {},
   "source": [
    "Abaixo, plotamos a variação dos valores de Q em função do tempo. O gráfico mostra que o algoritmo convergiu rapidamente para a solução."
   ]
  },
  {
   "cell_type": "code",
   "execution_count": 157,
   "metadata": {
    "scrolled": true
   },
   "outputs": [
    {
     "data": {
      "image/png": "[encoded data removed]",
      "text/plain": [
       "<Figure size 432x288 with 1 Axes>"
      ]
     },
     "metadata": {
      "needs_background": "light"
     },
     "output_type": "display_data"
    }
   ],
   "source": [
    "#episodes = np.arange(0, n_episodes, 1)\n",
    "x = np.arange(0, len(q_values), 1)\n",
    "plt.plot(x, q_values)\n",
    "plt.show()"
   ]
  },
  {
   "cell_type": "markdown",
   "metadata": {},
   "source": [
    "A visualização do comportamento do cartpole neste algoritmo, após convergência, encontra-se [neste vídeo](https://streamable.com/of543q)."
   ]
  },
  {
   "cell_type": "markdown",
   "metadata": {},
   "source": [
    "#### SARSA"
   ]
  },
  {
   "cell_type": "code",
   "execution_count": null,
   "metadata": {},
   "outputs": [],
   "source": []
  },
  {
   "cell_type": "code",
   "execution_count": null,
   "metadata": {},
   "outputs": [],
   "source": []
  },
  {
   "cell_type": "code",
   "execution_count": null,
   "metadata": {},
   "outputs": [],
   "source": []
  },
  {
   "cell_type": "code",
   "execution_count": null,
   "metadata": {},
   "outputs": [],
   "source": []
  },
  {
   "cell_type": "code",
   "execution_count": null,
   "metadata": {},
   "outputs": [],
   "source": []
  },
  {
   "cell_type": "markdown",
   "metadata": {},
   "source": [
    "#### Aproximador de função linear"
   ]
  },
  {
   "cell_type": "code",
   "execution_count": null,
   "metadata": {},
   "outputs": [],
   "source": []
  },
  {
   "cell_type": "code",
   "execution_count": null,
   "metadata": {},
   "outputs": [],
   "source": []
  },
  {
   "cell_type": "code",
   "execution_count": null,
   "metadata": {},
   "outputs": [],
   "source": []
  },
  {
   "cell_type": "code",
   "execution_count": null,
   "metadata": {},
   "outputs": [],
   "source": []
  },
  {
   "cell_type": "markdown",
   "metadata": {},
   "source": [
    "#### Síntese dos resultados e discussões"
   ]
  },
  {
   "cell_type": "markdown",
   "metadata": {},
   "source": [
    "- <b>Comparação entre algoritmos</b>:\n",
    "\n",
    "|           |Complexidade computacional|Tempo para execução e aprendizado| Resultado|\n",
    "|-----------|--------------------------|---------------------------------|----------|\n",
    "|Monte Carlo|--------------------------|---------------------------------|----------|\n",
    "|Q-learning |Linear*|Execução total em 296 segundos (1000 episódios); aprendizado em aproximadamente 20% do tempo|Satisfatório, com convergência para solução|\n",
    "|SARSA      |--------------------------|---------------------------------|----------|\n",
    "|Aproximador|--------------------------|---------------------------------|----------|\n",
    "\n",
    "\\* O tempo de execução para 10.000 iterações foi aproximadamente 10 vezes maior que o tempo de execução para 1.000 iterações\n",
    "\n",
    "- <b>Considerações sobre a função de recompensa</b>: Bla\n",
    "- <b>Considerações sobre a função de aproximação linear</b>: Bla"
   ]
  },
  {
   "cell_type": "code",
   "execution_count": null,
   "metadata": {},
   "outputs": [],
   "source": []
  },
  {
   "cell_type": "code",
   "execution_count": null,
   "metadata": {},
   "outputs": [],
   "source": []
  },
  {
   "cell_type": "code",
   "execution_count": null,
   "metadata": {},
   "outputs": [],
   "source": []
  },
  {
   "cell_type": "code",
   "execution_count": null,
   "metadata": {},
   "outputs": [],
   "source": []
  },
  {
   "cell_type": "markdown",
   "metadata": {},
   "source": [
    "#### Descrição das tarefas do grupo"
   ]
  },
  {
   "cell_type": "markdown",
   "metadata": {},
   "source": [
    "Todos os membros do grupo participaram das etapas de definição/estudo do problema e discussões gerais. Além disso, cada um dos integrantes se debruçou sobre as seguintes tarefas: \n",
    "\n",
    "- Leandro:\n",
    "- Mauricio:\n",
    "- Raysa: Estudo, implementação e testes do algoritmo Q-learning; Escrita e organização do relatório (Introdução, Visualização do ambiente, Discretização, Q-learning, Síntese dos resultados e discussões, Referências). \n",
    "\n",
    "OBS.: o grupo foi originalmente constituído por quatro pessoas, conforme especificação, mas um dos membros abandonou a disciplina. "
   ]
  },
  {
   "cell_type": "markdown",
   "metadata": {},
   "source": [
    "#### Referências"
   ]
  },
  {
   "cell_type": "markdown",
   "metadata": {},
   "source": [
    "[1] A. G. Barto, R. S. Sutton and C. W. Anderson, \"Neuronlike adaptive elements that can solve difficult learning control problems,\" in <i>IEEE Transactions on Systems, Man, and Cybernetics</i>, vol. SMC-13, no. 5, pp. 834-846, Sept.-Oct. 1983, doi: 10.1109/TSMC.1983.6313077.\n",
    "\n",
    "[2] OpenAI Gym: CartPole-v0. https://gym.openai.com/envs/CartPole-v0/ \n",
    "\n",
    "[3] Q-learning-demo-Cartpole-V1 by Richard Brooker. https://github.com/RJBrooker/Q-learning-demo-Cartpole-V1"
   ]
  }
 ],
 "metadata": {
  "kernelspec": {
   "display_name": "Python 3",
   "language": "python",
   "name": "python3"
  },
  "language_info": {
   "codemirror_mode": {
    "name": "ipython",
    "version": 3
   },
   "file_extension": ".py",
   "mimetype": "text/x-python",
   "name": "python",
   "nbconvert_exporter": "python",
   "pygments_lexer": "ipython3",
   "version": "3.6.9"
  }
 },
 "nbformat": 4,
 "nbformat_minor": 2
}
